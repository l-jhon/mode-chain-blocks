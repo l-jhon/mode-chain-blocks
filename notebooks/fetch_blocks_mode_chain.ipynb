{
 "cells": [
  {
   "cell_type": "markdown",
   "metadata": {},
   "source": [
    "# Notebook to fetch blocks from Mode Chain, since the block 1 until the last one."
   ]
  },
  {
   "cell_type": "code",
   "execution_count": 2,
   "metadata": {},
   "outputs": [],
   "source": [
    "from web3 import Web3\n",
    "import pandas as pd\n",
    "import concurrent.futures\n",
    "from tqdm import tqdm\n",
    "import duckdb"
   ]
  },
  {
   "cell_type": "code",
   "execution_count": null,
   "metadata": {},
   "outputs": [],
   "source": [
    "web = Web3(Web3.HTTPProvider(\"https://mainnet.mode.network/\"))"
   ]
  },
  {
   "cell_type": "code",
   "execution_count": null,
   "metadata": {},
   "outputs": [],
   "source": [
    "block_range = list(range(1, int(web.eth.getBlock('latest')['number']) + 1))"
   ]
  },
  {
   "cell_type": "code",
   "execution_count": null,
   "metadata": {},
   "outputs": [],
   "source": [
    "blocks_data_list = []"
   ]
  },
  {
   "cell_type": "code",
   "execution_count": null,
   "metadata": {},
   "outputs": [],
   "source": [
    "with concurrent.futures.ThreadPoolExecutor(max_workers=100) as executor:\n",
    "    futures = []\n",
    "    progress_bar = tqdm(total=len(block_range), desc=\"Getting blocks\", unit=\"request\")\n",
    "    for block_number in block_range:\n",
    "        futures.append(executor.submit(web.eth.getBlock, block_number))\n",
    "        \n",
    "    for future in concurrent.futures.as_completed(futures):\n",
    "        \n",
    "        try:\n",
    "            block = future.result()\n",
    "            block_data = {\n",
    "                'block_number': block['number'],\n",
    "                'block_timestamp': block['timestamp']\n",
    "            }\n",
    "            blocks_data_list.append(block_data)\n",
    "        except Exception as e:\n",
    "            print(f\"Error: {e}\")\n",
    "        finally:\n",
    "            progress_bar.update(1)\n",
    "    progress_bar.close()"
   ]
  },
  {
   "cell_type": "code",
   "execution_count": null,
   "metadata": {},
   "outputs": [],
   "source": [
    "blocks = pd.DataFrame(blocks_data_list).sort_values('block_number').reset_index(drop=True)"
   ]
  },
  {
   "cell_type": "code",
   "execution_count": null,
   "metadata": {},
   "outputs": [],
   "source": [
    "blocks.head()"
   ]
  },
  {
   "cell_type": "code",
   "execution_count": null,
   "metadata": {},
   "outputs": [],
   "source": [
    "blocks_range_number = blocks['block_number'].tolist()"
   ]
  },
  {
   "cell_type": "code",
   "execution_count": null,
   "metadata": {},
   "outputs": [],
   "source": [
    "# Get the missing blocks from the range of blocks we requested, sometimes the node is not able to return the data\n",
    "missing_blocks = list(set(block_range) - set(blocks_range_number))"
   ]
  },
  {
   "cell_type": "code",
   "execution_count": null,
   "metadata": {},
   "outputs": [],
   "source": [
    "for missing_block in missing_blocks:\n",
    "    block = web.eth.getBlock(missing_block)\n",
    "    block_data = {\n",
    "        'block_number': block['number'],\n",
    "        'block_timestamp': block['timestamp']\n",
    "    }\n",
    "    blocks = blocks.append(block_data, ignore_index=True)"
   ]
  },
  {
   "cell_type": "code",
   "execution_count": null,
   "metadata": {},
   "outputs": [],
   "source": [
    "blocks.to_parquet('blocks.parquet')"
   ]
  },
  {
   "cell_type": "code",
   "execution_count": 3,
   "metadata": {},
   "outputs": [],
   "source": [
    "blocks = pd.read_parquet('../data/mode_chain_blocks.parquet')"
   ]
  },
  {
   "cell_type": "code",
   "execution_count": 13,
   "metadata": {},
   "outputs": [],
   "source": [
    "blocks['datetime'] = pd.to_datetime(blocks['block_timestamp'], unit='s')"
   ]
  },
  {
   "cell_type": "code",
   "execution_count": 14,
   "metadata": {},
   "outputs": [
    {
     "data": {
      "text/html": [
       "<div>\n",
       "<style scoped>\n",
       "    .dataframe tbody tr th:only-of-type {\n",
       "        vertical-align: middle;\n",
       "    }\n",
       "\n",
       "    .dataframe tbody tr th {\n",
       "        vertical-align: top;\n",
       "    }\n",
       "\n",
       "    .dataframe thead th {\n",
       "        text-align: right;\n",
       "    }\n",
       "</style>\n",
       "<table border=\"1\" class=\"dataframe\">\n",
       "  <thead>\n",
       "    <tr style=\"text-align: right;\">\n",
       "      <th></th>\n",
       "      <th>block_number</th>\n",
       "      <th>block_timestamp</th>\n",
       "      <th>datetime</th>\n",
       "    </tr>\n",
       "  </thead>\n",
       "  <tbody>\n",
       "    <tr>\n",
       "      <th>0</th>\n",
       "      <td>1</td>\n",
       "      <td>1700167585</td>\n",
       "      <td>2023-11-16 20:46:25</td>\n",
       "    </tr>\n",
       "    <tr>\n",
       "      <th>1</th>\n",
       "      <td>2</td>\n",
       "      <td>1700167587</td>\n",
       "      <td>2023-11-16 20:46:27</td>\n",
       "    </tr>\n",
       "    <tr>\n",
       "      <th>2</th>\n",
       "      <td>3</td>\n",
       "      <td>1700167589</td>\n",
       "      <td>2023-11-16 20:46:29</td>\n",
       "    </tr>\n",
       "    <tr>\n",
       "      <th>3</th>\n",
       "      <td>4</td>\n",
       "      <td>1700167591</td>\n",
       "      <td>2023-11-16 20:46:31</td>\n",
       "    </tr>\n",
       "    <tr>\n",
       "      <th>4</th>\n",
       "      <td>5</td>\n",
       "      <td>1700167593</td>\n",
       "      <td>2023-11-16 20:46:33</td>\n",
       "    </tr>\n",
       "  </tbody>\n",
       "</table>\n",
       "</div>"
      ],
      "text/plain": [
       "   block_number  block_timestamp            datetime\n",
       "0             1       1700167585 2023-11-16 20:46:25\n",
       "1             2       1700167587 2023-11-16 20:46:27\n",
       "2             3       1700167589 2023-11-16 20:46:29\n",
       "3             4       1700167591 2023-11-16 20:46:31\n",
       "4             5       1700167593 2023-11-16 20:46:33"
      ]
     },
     "execution_count": 14,
     "metadata": {},
     "output_type": "execute_result"
    }
   ],
   "source": [
    "blocks.head()"
   ]
  },
  {
   "cell_type": "code",
   "execution_count": 19,
   "metadata": {},
   "outputs": [],
   "source": [
    "# Using DuckDB to execute a SQL query using the DataFrame and get the daily blocks\n",
    "daily_blocks = duckdb.query(\"\"\"\n",
    "    WITH daily_blocks AS (\n",
    "        SELECT\n",
    "                extract(year from datetime) AS year,\n",
    "                extract(month from datetime) AS month,\n",
    "                extract(day from datetime) AS day,\n",
    "                max(block_number) AS last_block_of_the_day,\n",
    "                max(block_timestamp) AS last_block_timestamp_of_the_day\n",
    "        FROM blocks\n",
    "        GROUP BY 1, 2, 3\n",
    "        ORDER BY 1, 2, 3 ASC\n",
    "    )\n",
    "    \n",
    "    SELECT cast(concat(year, '-', month, '-', day) as date) AS date, last_block_of_the_day, last_block_timestamp_of_the_day FROM daily_blocks\n",
    "\"\"\").fetchdf()"
   ]
  },
  {
   "cell_type": "code",
   "execution_count": 21,
   "metadata": {},
   "outputs": [
    {
     "data": {
      "text/html": [
       "<div>\n",
       "<style scoped>\n",
       "    .dataframe tbody tr th:only-of-type {\n",
       "        vertical-align: middle;\n",
       "    }\n",
       "\n",
       "    .dataframe tbody tr th {\n",
       "        vertical-align: top;\n",
       "    }\n",
       "\n",
       "    .dataframe thead th {\n",
       "        text-align: right;\n",
       "    }\n",
       "</style>\n",
       "<table border=\"1\" class=\"dataframe\">\n",
       "  <thead>\n",
       "    <tr style=\"text-align: right;\">\n",
       "      <th></th>\n",
       "      <th>date</th>\n",
       "      <th>last_block_of_the_day</th>\n",
       "      <th>last_block_timestamp_of_the_day</th>\n",
       "    </tr>\n",
       "  </thead>\n",
       "  <tbody>\n",
       "    <tr>\n",
       "      <th>0</th>\n",
       "      <td>2023-11-16</td>\n",
       "      <td>5808</td>\n",
       "      <td>1700179199</td>\n",
       "    </tr>\n",
       "    <tr>\n",
       "      <th>1</th>\n",
       "      <td>2023-11-17</td>\n",
       "      <td>49008</td>\n",
       "      <td>1700265599</td>\n",
       "    </tr>\n",
       "    <tr>\n",
       "      <th>2</th>\n",
       "      <td>2023-11-18</td>\n",
       "      <td>92208</td>\n",
       "      <td>1700351999</td>\n",
       "    </tr>\n",
       "    <tr>\n",
       "      <th>3</th>\n",
       "      <td>2023-11-19</td>\n",
       "      <td>135408</td>\n",
       "      <td>1700438399</td>\n",
       "    </tr>\n",
       "    <tr>\n",
       "      <th>4</th>\n",
       "      <td>2023-11-20</td>\n",
       "      <td>178608</td>\n",
       "      <td>1700524799</td>\n",
       "    </tr>\n",
       "  </tbody>\n",
       "</table>\n",
       "</div>"
      ],
      "text/plain": [
       "        date  last_block_of_the_day  last_block_timestamp_of_the_day\n",
       "0 2023-11-16                   5808                       1700179199\n",
       "1 2023-11-17                  49008                       1700265599\n",
       "2 2023-11-18                  92208                       1700351999\n",
       "3 2023-11-19                 135408                       1700438399\n",
       "4 2023-11-20                 178608                       1700524799"
      ]
     },
     "execution_count": 21,
     "metadata": {},
     "output_type": "execute_result"
    }
   ],
   "source": [
    "daily_blocks.head()"
   ]
  },
  {
   "cell_type": "code",
   "execution_count": 22,
   "metadata": {},
   "outputs": [],
   "source": [
    "daily_blocks.to_parquet('../data/mode_chain_daily_blocks.parquet')"
   ]
  },
  {
   "cell_type": "code",
   "execution_count": null,
   "metadata": {},
   "outputs": [],
   "source": []
  }
 ],
 "metadata": {
  "kernelspec": {
   "display_name": "data-ingestion-wallet-transactions-8wChUN5h-py3.10",
   "language": "python",
   "name": "python3"
  },
  "language_info": {
   "codemirror_mode": {
    "name": "ipython",
    "version": 3
   },
   "file_extension": ".py",
   "mimetype": "text/x-python",
   "name": "python",
   "nbconvert_exporter": "python",
   "pygments_lexer": "ipython3",
   "version": "3.12.0"
  }
 },
 "nbformat": 4,
 "nbformat_minor": 2
}
